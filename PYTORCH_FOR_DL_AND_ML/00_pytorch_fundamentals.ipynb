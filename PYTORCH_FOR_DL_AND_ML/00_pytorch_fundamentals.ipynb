{
 "cells": [
  {
   "cell_type": "markdown",
   "id": "1db356bc-875d-45b7-9e0b-72d60381f748",
   "metadata": {},
   "source": [
    "### PyTorch for Deep Learning and Machine Learning\n",
    "#### https://www.youtube.com/watch?v=V_xro1bcAuA&t=38772s\n",
    "#### https://www.learnpytorch.io/"
   ]
  },
  {
   "cell_type": "markdown",
   "id": "f9514a2d-1203-4edb-a3ae-a3bfa5ab2269",
   "metadata": {},
   "source": [
    "# 00. PyTorch Fundamentals"
   ]
  },
  {
   "cell_type": "code",
   "execution_count": 1,
   "id": "032e02e1-33da-44b5-a26d-e77fbb71d2ee",
   "metadata": {},
   "outputs": [],
   "source": [
    "import torch\n",
    "import pandas as pd \n",
    "import numpy as np\n",
    "import matplotlib.pyplot as plt"
   ]
  },
  {
   "cell_type": "code",
   "execution_count": null,
   "id": "f1f0a4ef-40b4-4ee7-9b7f-477bf075de91",
   "metadata": {},
   "outputs": [],
   "source": [
    "print(torch.__version__)"
   ]
  },
  {
   "cell_type": "markdown",
   "id": "68b06b5b-d15b-47bb-84df-008a5bb8e70f",
   "metadata": {},
   "source": [
    "## Introduction to Tensors\n",
    "\n",
    "### Creating tensors"
   ]
  },
  {
   "cell_type": "code",
   "execution_count": null,
   "id": "1baa2576-6a72-45aa-9f0d-fa27a89e3f5b",
   "metadata": {},
   "outputs": [],
   "source": [
    "# Scalar\n",
    "scalar = torch.tensor(7)\n",
    "scalar"
   ]
  },
  {
   "cell_type": "code",
   "execution_count": null,
   "id": "3221d541-78e8-490a-b7fe-c1290f95285f",
   "metadata": {},
   "outputs": [],
   "source": [
    "scalar.ndim"
   ]
  },
  {
   "cell_type": "code",
   "execution_count": null,
   "id": "f37e720f-ac3b-4d25-8c3a-49beee4a009a",
   "metadata": {},
   "outputs": [],
   "source": [
    "# Get tensor back a Python int\n",
    "scalar.item()"
   ]
  },
  {
   "cell_type": "code",
   "execution_count": null,
   "id": "f33d9b3c-522e-48d7-8968-75bb1dc72fe7",
   "metadata": {},
   "outputs": [],
   "source": [
    "# Vector"
   ]
  },
  {
   "cell_type": "code",
   "execution_count": null,
   "id": "669dee4d-bf61-40bf-aace-543f73a58d02",
   "metadata": {},
   "outputs": [],
   "source": [
    "vector = torch.tensor([7, 7])"
   ]
  },
  {
   "cell_type": "code",
   "execution_count": null,
   "id": "43ef8233-ec14-4bfa-a6ac-55aca8cd5063",
   "metadata": {},
   "outputs": [],
   "source": [
    "vector"
   ]
  },
  {
   "cell_type": "code",
   "execution_count": null,
   "id": "df65d20c-b004-4bf4-a6a3-da28b58d08d4",
   "metadata": {},
   "outputs": [],
   "source": [
    "vector.ndim"
   ]
  },
  {
   "cell_type": "code",
   "execution_count": null,
   "id": "be6c9691-31e0-4601-9485-8385a8a8d503",
   "metadata": {},
   "outputs": [],
   "source": [
    "vector.shape"
   ]
  },
  {
   "cell_type": "code",
   "execution_count": null,
   "id": "12ee5269-b9c5-4ca0-ab38-3d41f4e154ad",
   "metadata": {},
   "outputs": [],
   "source": [
    "# MATRIX\n",
    "MATRIX = torch.tensor([[7, 8], [9, 10]])\n",
    "MATRIX"
   ]
  },
  {
   "cell_type": "code",
   "execution_count": null,
   "id": "29ade349-f4b9-4e6d-9562-e738b93fe7c0",
   "metadata": {},
   "outputs": [],
   "source": [
    "MATRIX.ndim"
   ]
  },
  {
   "cell_type": "code",
   "execution_count": null,
   "id": "143d088d-c36b-4f54-a265-0f64329c7404",
   "metadata": {},
   "outputs": [],
   "source": [
    "MATRIX[0]"
   ]
  },
  {
   "cell_type": "code",
   "execution_count": null,
   "id": "6bb2ab63-e7f8-4ac5-99f3-2079aab97973",
   "metadata": {},
   "outputs": [],
   "source": [
    "MATRIX[1]"
   ]
  },
  {
   "cell_type": "code",
   "execution_count": null,
   "id": "3d30e954-f169-43ee-8fb6-2f71b6fe8b50",
   "metadata": {},
   "outputs": [],
   "source": [
    "MATRIX.shape"
   ]
  },
  {
   "cell_type": "code",
   "execution_count": null,
   "id": "aaf4ea33-665e-4926-9b93-7206081c67bc",
   "metadata": {},
   "outputs": [],
   "source": [
    "# TENSOR\n",
    "TENSOR = torch.tensor([[[1, 2, 3],\n",
    "                     [3, 6, 9],\n",
    "                     [2, 4, 5]]])\n",
    "TENSOR"
   ]
  },
  {
   "cell_type": "code",
   "execution_count": null,
   "id": "fd92a755-6521-46e2-9d25-ee5201010f04",
   "metadata": {},
   "outputs": [],
   "source": [
    "TENSOR.ndim"
   ]
  },
  {
   "cell_type": "code",
   "execution_count": null,
   "id": "b1a90c1c-9b38-42d2-9684-1cd226beb064",
   "metadata": {},
   "outputs": [],
   "source": [
    "TENSOR.shape"
   ]
  },
  {
   "cell_type": "code",
   "execution_count": null,
   "id": "9dccc4e9-2ece-4e96-a001-ec2273464994",
   "metadata": {},
   "outputs": [],
   "source": [
    "TENSOR[0]"
   ]
  },
  {
   "cell_type": "markdown",
   "id": "2661a494-734c-486c-8c6c-f59d54a1d99f",
   "metadata": {},
   "source": [
    "### Random tensors\n",
    "\n",
    "Why random tensors?\n",
    "\n",
    "Random tensors are important because the way many neural networks learn is that they start with tensors full of random numbers and then adjust those random numbers to better represent the data."
   ]
  },
  {
   "cell_type": "code",
   "execution_count": null,
   "id": "e49088d4-808d-4ee0-b5fa-005dc2b6bed6",
   "metadata": {},
   "outputs": [],
   "source": [
    "# Create a random tensor of size (3, 4)\n",
    "random_tensor = torch.rand(3, 4)"
   ]
  },
  {
   "cell_type": "code",
   "execution_count": null,
   "id": "8934e2c4-fd27-4cdd-97f0-30ad37ddc5e5",
   "metadata": {},
   "outputs": [],
   "source": [
    "random_tensor"
   ]
  },
  {
   "cell_type": "code",
   "execution_count": null,
   "id": "ff1730da-39a5-4f4d-b2a4-13ebc3196099",
   "metadata": {},
   "outputs": [],
   "source": [
    "random_tensor.ndim"
   ]
  },
  {
   "cell_type": "code",
   "execution_count": null,
   "id": "b25f8d9a-e303-45dd-aa3d-b25c1e4bb7f3",
   "metadata": {},
   "outputs": [],
   "source": [
    "# Create a random tensor with similar shape to an image tensor\n",
    "random_image_size_tensor = torch.rand(size = (3, 224, 224))  # height, width, colour channels (R, G, B)\n",
    "random_image_size_tensor.shape, random_image_size_tensor.ndim"
   ]
  },
  {
   "cell_type": "markdown",
   "id": "58d1f0cb-8f64-4ccf-82b7-13164c108a27",
   "metadata": {},
   "source": [
    "### Zeros and ones"
   ]
  },
  {
   "cell_type": "code",
   "execution_count": null,
   "id": "697de24f-f85f-45a4-91a9-331c5d74b9e8",
   "metadata": {},
   "outputs": [],
   "source": [
    "# Create a tensor of all zeros\n",
    "zeros = torch.zeros(size = (3, 4))\n",
    "zeros"
   ]
  },
  {
   "cell_type": "code",
   "execution_count": null,
   "id": "e1ba70cd-cd4a-4c6d-8287-25fd674fc406",
   "metadata": {},
   "outputs": [],
   "source": [
    "zeros * random_tensor"
   ]
  },
  {
   "cell_type": "code",
   "execution_count": null,
   "id": "069a5d9e-a32d-4b7d-8270-8d0f435b8107",
   "metadata": {},
   "outputs": [],
   "source": [
    "# Create a tensor of all ones\n",
    "ones = torch.ones(size = (3, 4))\n",
    "ones"
   ]
  },
  {
   "cell_type": "code",
   "execution_count": null,
   "id": "766e8608-a9af-479b-ae6c-3ae13fe74429",
   "metadata": {},
   "outputs": [],
   "source": [
    "ones.dtype"
   ]
  },
  {
   "cell_type": "markdown",
   "id": "181bee27-a36b-42db-86eb-f7911fa2e095",
   "metadata": {},
   "source": [
    "### Creating a range of tensors and tensors-like"
   ]
  },
  {
   "cell_type": "code",
   "execution_count": null,
   "id": "22831cea-f255-4702-a931-ed474560c102",
   "metadata": {},
   "outputs": [],
   "source": [
    "# Use torch.arange()\n",
    "one_to_ten = torch.arange(start = 1, end = 11, step = 1)\n",
    "one_to_ten"
   ]
  },
  {
   "cell_type": "code",
   "execution_count": null,
   "id": "3fdd2869-2dc7-472e-b389-9089b557ac07",
   "metadata": {},
   "outputs": [],
   "source": [
    "# Creating tensors like\n",
    "ten_zeros = torch.zeros_like(input = one_to_ten)\n",
    "ten_zeros"
   ]
  },
  {
   "cell_type": "markdown",
   "id": "437f4e94-0731-4dce-8a00-45f271a5c17d",
   "metadata": {},
   "source": [
    "### Tensor datatypes\n",
    "\n",
    "**Note:** Tensor datatypes is one of the 3 big errors you'll run into with PyTorch & deep learning:\n",
    "1. Tensors not right datatype\n",
    "2. Tensors not right shape\n",
    "3. Tensors not on the right device"
   ]
  },
  {
   "cell_type": "code",
   "execution_count": null,
   "id": "93fa89a7-6dcb-4a6c-a92d-c410ba649dcd",
   "metadata": {},
   "outputs": [],
   "source": [
    "# Float 32 tensor\n",
    "float_32_tensor = torch.tensor([3.0, 6.0, 9.0],\n",
    "                               dtype = None,  # what datatype is the tensor (e.g. float32 or float16)\n",
    "                               device = None,  # what device is your tensor on\n",
    "                               requires_grad = False)  # whether or not to track gradients with this tensor's operations\n",
    "float_32_tensor"
   ]
  },
  {
   "cell_type": "code",
   "execution_count": null,
   "id": "954aba07-e7e6-4b24-83b3-88eca8190b10",
   "metadata": {},
   "outputs": [],
   "source": [
    "float_32_tensor.dtype"
   ]
  },
  {
   "cell_type": "code",
   "execution_count": null,
   "id": "7a6f8531-5d0a-4a61-a053-0a6c7da86286",
   "metadata": {},
   "outputs": [],
   "source": [
    "float_16_tensor = float_32_tensor.type(torch.float16)\n",
    "float_16_tensor"
   ]
  },
  {
   "cell_type": "code",
   "execution_count": null,
   "id": "4761417f-90e6-49ff-bfd2-78a8bb50ffa6",
   "metadata": {},
   "outputs": [],
   "source": [
    "float_16_tensor * float_32_tensor"
   ]
  },
  {
   "cell_type": "code",
   "execution_count": null,
   "id": "3b4b4e85-d97d-402f-8bde-d4e618e3279f",
   "metadata": {},
   "outputs": [],
   "source": [
    "int_32_tensor = torch.tensor([3, 6, 9], dtype = torch.int32)\n",
    "int_32_tensor"
   ]
  },
  {
   "cell_type": "code",
   "execution_count": null,
   "id": "651aa8be-c49d-4446-a203-7922e77a9017",
   "metadata": {},
   "outputs": [],
   "source": [
    "float_32_tensor * int_32_tensor"
   ]
  },
  {
   "cell_type": "markdown",
   "id": "964ccf34-0c94-48ad-904d-5ea7a12584cf",
   "metadata": {},
   "source": [
    "### Getting information from tensors"
   ]
  },
  {
   "cell_type": "code",
   "execution_count": null,
   "id": "26cd652e-7711-48ed-91d4-7c79ace5ab08",
   "metadata": {},
   "outputs": [],
   "source": [
    "# Create a tensor\n",
    "some_tensor = torch.rand(3, 4)\n",
    "some_tensor"
   ]
  },
  {
   "cell_type": "code",
   "execution_count": null,
   "id": "73186e89-e20e-4213-87dc-58afea46e6fd",
   "metadata": {},
   "outputs": [],
   "source": [
    "print(some_tensor)\n",
    "print(f\"Datatype of tensor: {some_tensor.dtype}\")\n",
    "print(f\"Shape of tensor: {some_tensor.shape}\")\n",
    "print(f\"Size of tensor: {some_tensor.size()}\")  # a function, not a method\n",
    "print(f\"Device of tensor is on: {some_tensor.device}\")"
   ]
  },
  {
   "cell_type": "code",
   "execution_count": null,
   "id": "079e50f3-5acd-4a98-a2cb-a5519ef6f0db",
   "metadata": {},
   "outputs": [],
   "source": [
    "some_tensor.shape"
   ]
  },
  {
   "cell_type": "code",
   "execution_count": null,
   "id": "6f2f391d-90e7-4bd4-abcc-df839bd07ee3",
   "metadata": {},
   "outputs": [],
   "source": [
    "some_tensor.device"
   ]
  },
  {
   "cell_type": "markdown",
   "id": "ee0e7346-1762-48f4-9176-bbae0644add2",
   "metadata": {},
   "source": [
    "### Manipulating tensors (tensor operations)\n",
    "\n",
    "Tensor operations include:\n",
    "- Addition\n",
    "- Subtraction\n",
    "- Multiplication (element-wise)\n",
    "- Division\n",
    "- Matrix multiplication"
   ]
  },
  {
   "cell_type": "code",
   "execution_count": null,
   "id": "bb518278-43af-4fab-892b-f77b1b0ee3f2",
   "metadata": {},
   "outputs": [],
   "source": [
    "# Create a tensor\n",
    "tensor = torch.tensor([1, 2, 3])\n",
    "tensor + 10"
   ]
  },
  {
   "cell_type": "code",
   "execution_count": null,
   "id": "ef706824-5824-4458-bc79-0995dd47b4ac",
   "metadata": {},
   "outputs": [],
   "source": [
    "# Multiply tensor by 10\n",
    "tensor * 10"
   ]
  },
  {
   "cell_type": "code",
   "execution_count": null,
   "id": "8fde0b52-34d6-408c-a8df-e8146bc9ecfb",
   "metadata": {},
   "outputs": [],
   "source": [
    "tensor"
   ]
  },
  {
   "cell_type": "code",
   "execution_count": null,
   "id": "8570e769-0a5e-4e2e-ac12-99f37178f74e",
   "metadata": {},
   "outputs": [],
   "source": [
    "# Subtract 10\n",
    "tensor - 10"
   ]
  },
  {
   "cell_type": "code",
   "execution_count": null,
   "id": "732a2b3e-ff3a-4828-a877-a89a5b08f1db",
   "metadata": {},
   "outputs": [],
   "source": [
    "# Try out PyTorch built-in functions\n",
    "torch.mul(tensor, 10)"
   ]
  },
  {
   "cell_type": "code",
   "execution_count": null,
   "id": "cb3e7bcc-6e8e-4310-894b-6837d0c29050",
   "metadata": {},
   "outputs": [],
   "source": [
    "torch.add(tensor, 10)"
   ]
  },
  {
   "cell_type": "code",
   "execution_count": null,
   "id": "184aadd1-82d1-40bc-bdde-d8b77e5327ad",
   "metadata": {},
   "outputs": [],
   "source": [
    "torch.subtract(tensor, 10)"
   ]
  },
  {
   "cell_type": "code",
   "execution_count": null,
   "id": "f8ce0d90-10ee-4699-a970-9f0ecae8f17a",
   "metadata": {},
   "outputs": [],
   "source": [
    "torch.divide(tensor, 10)"
   ]
  },
  {
   "cell_type": "markdown",
   "id": "803be9d6-985b-45bf-ab03-0d0e241c6dde",
   "metadata": {},
   "source": [
    "### Matrix multiplication\n",
    "\n",
    "Two main ways of performing multiplication in neural networks and deep learning:\n",
    "\n",
    "1. Element-wise multiplication\n",
    "2. Matrix multiplication (dot product)\n",
    "\n",
    "There are two main rules that performing matrix multiplication needs to satisfy:\n",
    "1. The **inner dimensions** must match:\n",
    "* `(3, 2) @ (3, 2)` won't work\n",
    "* `(2, 3) @ (3, 2)` will work\n",
    "* `(3, 2) @ (2, 3)` will work\n",
    "\n",
    "2. The resulting matrix has the shape of the **outer dimensions**:\n",
    "* `(2, 3) @ (3, 2)` -> `(2, 2)`\n",
    "* `(3, 2) @ (2, 3)` -> `(3, 3)`"
   ]
  },
  {
   "cell_type": "code",
   "execution_count": null,
   "id": "1ed97dd3-79bb-4f81-969d-c6ed5a15a18d",
   "metadata": {},
   "outputs": [],
   "source": [
    "torch.matmul(torch.rand(2, 3), torch.rand(3, 2))"
   ]
  },
  {
   "cell_type": "code",
   "execution_count": null,
   "id": "a124928b-2dca-4295-84dd-0869f426a450",
   "metadata": {},
   "outputs": [],
   "source": [
    "torch.matmul(torch.rand(3, 2), torch.rand(2, 3))"
   ]
  },
  {
   "cell_type": "code",
   "execution_count": null,
   "id": "82b67381-b072-487f-943c-57c05b4c4d40",
   "metadata": {},
   "outputs": [],
   "source": [
    "torch.matmul(torch.rand(3, 10), torch.rand(10, 3))"
   ]
  },
  {
   "cell_type": "code",
   "execution_count": null,
   "id": "2698e379-15c7-43db-b5c8-ed8d683889cc",
   "metadata": {},
   "outputs": [],
   "source": [
    "# Element-wise multiplication\n",
    "print(f\"{tensor} * {tensor} = {tensor * tensor}\")"
   ]
  },
  {
   "cell_type": "code",
   "execution_count": null,
   "id": "c7514097-aac5-430e-8759-4218d46acb9d",
   "metadata": {},
   "outputs": [],
   "source": [
    "# Matrix multiplication\n",
    "torch.matmul(tensor, tensor)"
   ]
  },
  {
   "cell_type": "code",
   "execution_count": null,
   "id": "21915511-e1e7-4c96-9560-a21dc30be407",
   "metadata": {},
   "outputs": [],
   "source": [
    "# Matrix multiplication by hand\n",
    "1*1 + 2*2 + 3*3"
   ]
  },
  {
   "cell_type": "code",
   "execution_count": null,
   "id": "57a33363-e8a5-4970-964c-0b63dacc4300",
   "metadata": {},
   "outputs": [],
   "source": [
    "tensor @ tensor"
   ]
  },
  {
   "cell_type": "code",
   "execution_count": null,
   "id": "c20f6e4d-627b-408d-a18b-696dcdf9302a",
   "metadata": {},
   "outputs": [],
   "source": [
    "%%time\n",
    "value = 0\n",
    "for i in range(len(tensor)):\n",
    "    value += tensor[i] * tensor[i]\n",
    "print(value)"
   ]
  },
  {
   "cell_type": "code",
   "execution_count": null,
   "id": "a6039676-569f-4bdc-9ef8-ad87db09fb05",
   "metadata": {},
   "outputs": [],
   "source": [
    "%time\n",
    "torch.matmul(tensor, tensor)"
   ]
  },
  {
   "cell_type": "markdown",
   "id": "ab5f5113-5eca-41df-9e9f-81e44ccedee4",
   "metadata": {},
   "source": [
    "#### One of the most common errors in deep learning: shape errors"
   ]
  },
  {
   "cell_type": "code",
   "execution_count": null,
   "id": "bb062bb7-6318-464a-8cbb-5f354251ab50",
   "metadata": {},
   "outputs": [],
   "source": [
    "# Shapes for matrix multiplication\n",
    "tensor_A = torch.tensor([[1, 2],\n",
    "                         [3, 4],\n",
    "                         [5, 6]])\n",
    "\n",
    "tensor_B = torch.tensor([[7, 10],\n",
    "                         [8, 11],\n",
    "                         [9, 12]])"
   ]
  },
  {
   "cell_type": "code",
   "execution_count": null,
   "id": "6679362e-faca-4054-b79a-44aa8223e202",
   "metadata": {},
   "outputs": [],
   "source": [
    "# torch.mm(tensor_A, tensor_B)  # torch.mm is the same as torch.matmul (it's an alias for writing less code)\n",
    "torch.matmul(tensor_A, tensor_B)"
   ]
  },
  {
   "cell_type": "code",
   "execution_count": null,
   "id": "35311d58-3f55-44a4-bd20-43fc4553e88b",
   "metadata": {},
   "outputs": [],
   "source": [
    "tensor_A.shape, tensor_B.shape"
   ]
  },
  {
   "cell_type": "markdown",
   "id": "9c886c0a-b91c-493d-a02c-b79b32f13de7",
   "metadata": {},
   "source": [
    "To fix our tensor shape issues, we can manipulate the shape of one of our tensors using a **transpose**.\n",
    "\n",
    "A **transpose** switches the axes or dimensions of a given tensor."
   ]
  },
  {
   "cell_type": "code",
   "execution_count": null,
   "id": "1d655a32-c229-42b0-97cd-34246e1693bf",
   "metadata": {},
   "outputs": [],
   "source": [
    "tensor_B, tensor_B.shape"
   ]
  },
  {
   "cell_type": "code",
   "execution_count": null,
   "id": "f6afd076-d50c-479e-bc57-5c032aa875cd",
   "metadata": {},
   "outputs": [],
   "source": [
    "tensor_B.T, tensor_B.T.shape"
   ]
  },
  {
   "cell_type": "code",
   "execution_count": null,
   "id": "cc43b484-623b-4789-a48d-66d159586683",
   "metadata": {},
   "outputs": [],
   "source": [
    "# The matrix multiplication operation works when tensor_B is transposed\n",
    "\n",
    "print(f\"Original shapes: tensor_A = {tensor_A.shape}, tensor_B = {tensor_B.shape}\")\n",
    "print(f\"New shapes: tensor_A = {tensor_A.shape}, tensor_B.T = {tensor_B.T.shape}\")\n",
    "\n",
    "print(f\"Multiplying: {tensor_A.shape} @ {tensor_B.T.shape} <- inner dimensions must match\")\n",
    "\n",
    "print(\"Output:\\n\")\n",
    "\n",
    "output = torch.matmul(tensor_A, tensor_B.T)\n",
    "\n",
    "print(output)\n",
    "\n",
    "print(f\"\\nOutput shape: {output.shape}\")"
   ]
  },
  {
   "cell_type": "markdown",
   "id": "e7b7999b-9ba7-415b-8b96-bf0be2ab8d72",
   "metadata": {},
   "source": [
    "## Finding the min, max, mean, sum, etc. (tensor aggregation)"
   ]
  },
  {
   "cell_type": "code",
   "execution_count": null,
   "id": "f1315bae-8cb1-41af-8b13-18920fa741d0",
   "metadata": {},
   "outputs": [],
   "source": [
    "# Create a tensor\n",
    "x = torch.arange(0, 100, 10)\n",
    "x"
   ]
  },
  {
   "cell_type": "code",
   "execution_count": null,
   "id": "8671b108-5f0e-4647-8d91-b033c4b1c51c",
   "metadata": {},
   "outputs": [],
   "source": [
    "x.dtype"
   ]
  },
  {
   "cell_type": "code",
   "execution_count": null,
   "id": "6d0ca766-6751-42ad-a394-00d095f4b11a",
   "metadata": {},
   "outputs": [],
   "source": [
    "# Find the min\n",
    "torch.min(x), x.min()"
   ]
  },
  {
   "cell_type": "code",
   "execution_count": null,
   "id": "42ee79de-b419-4576-8936-84b648dfc69e",
   "metadata": {},
   "outputs": [],
   "source": [
    "# Find the max\n",
    "torch.max(x), x.max()"
   ]
  },
  {
   "cell_type": "code",
   "execution_count": null,
   "id": "c7984700-0bc5-487c-b773-4918128632cf",
   "metadata": {},
   "outputs": [],
   "source": [
    "# Find the mean - note: the torch.mean() function requires a tensor of float32 datatype to work\n",
    "torch.mean(x.type(torch.float32))"
   ]
  },
  {
   "cell_type": "code",
   "execution_count": null,
   "id": "e7812cfe-9855-4029-9a87-c76534fc36d6",
   "metadata": {},
   "outputs": [],
   "source": [
    "x.type(torch.float32).mean()"
   ]
  },
  {
   "cell_type": "code",
   "execution_count": null,
   "id": "c04f74f7-25ea-4efb-a29a-8155665eb473",
   "metadata": {},
   "outputs": [],
   "source": [
    "# Find the sum\n",
    "torch.sum(x), x.sum()"
   ]
  },
  {
   "cell_type": "markdown",
   "id": "ae9bb2c2-662f-4f49-b9f2-8217cf55614a",
   "metadata": {},
   "source": [
    "## Finding the positional min and max"
   ]
  },
  {
   "cell_type": "code",
   "execution_count": null,
   "id": "e7277f71-e90d-490e-ab0d-84c17db250ea",
   "metadata": {},
   "outputs": [],
   "source": [
    "x"
   ]
  },
  {
   "cell_type": "code",
   "execution_count": null,
   "id": "ac742f9e-5ff8-47b9-9242-d4d7b0625386",
   "metadata": {},
   "outputs": [],
   "source": [
    "# Find the position in tensor that has the minimum value with argmin() -> returns index position of target\n",
    "# tensor where the minimum value occurs\n",
    "x.argmin()"
   ]
  },
  {
   "cell_type": "code",
   "execution_count": null,
   "id": "967c8744-70c3-44d0-a933-b54d58be97de",
   "metadata": {},
   "outputs": [],
   "source": [
    "x[0]"
   ]
  },
  {
   "cell_type": "code",
   "execution_count": null,
   "id": "43440275-14d5-4d07-aa2b-da9f7f8c18d1",
   "metadata": {},
   "outputs": [],
   "source": [
    "x = torch.arange(1, 100, 10)\n",
    "x"
   ]
  },
  {
   "cell_type": "code",
   "execution_count": null,
   "id": "a8995c3d-cab0-470d-a5a9-d29f8b0eb933",
   "metadata": {},
   "outputs": [],
   "source": [
    "x.argmin()"
   ]
  },
  {
   "cell_type": "code",
   "execution_count": null,
   "id": "215d9457-4c45-4b6e-97b6-f08a52c388db",
   "metadata": {},
   "outputs": [],
   "source": [
    "x[0]"
   ]
  },
  {
   "cell_type": "code",
   "execution_count": null,
   "id": "8633cdbd-8003-4c2f-abce-e72261067c0e",
   "metadata": {},
   "outputs": [],
   "source": [
    "# Find the position in tensor that has the maximum value with argmax()\n",
    "x.argmax()"
   ]
  },
  {
   "cell_type": "code",
   "execution_count": null,
   "id": "7c6ca7e4-3b70-4610-8664-6d365ffb4b80",
   "metadata": {},
   "outputs": [],
   "source": [
    "x[9]"
   ]
  },
  {
   "cell_type": "markdown",
   "id": "deacfa4f-a7a0-4de3-8328-508d0928dd93",
   "metadata": {},
   "source": [
    "## Reshaping, stacking, squeezing and unsqueezing tensors\n",
    "\n",
    "* Reshaping - reshapes an input tensor to a defined shape\n",
    "* View - return a view of in input tensor of certain shape but keep the same memory as the original tensor\n",
    "* Stacking - combine multiple tensors on top of each other (vstack) or side by side (hstack)\n",
    "* Squeeze - removes all `1` dimensions from a tensor\n",
    "* Unsqueeze - adds a `1` dimension to a target tensor\n",
    "* Permute - return a view of the input with dimensions permuted (swapped) in a certain way"
   ]
  },
  {
   "cell_type": "code",
   "execution_count": null,
   "id": "01752218-18b9-4e7d-a8bb-a1fb4691b32b",
   "metadata": {},
   "outputs": [],
   "source": [
    "# Let's create a tensor\n",
    "x = torch.arange(1., 10.)\n",
    "x, x.shape"
   ]
  },
  {
   "cell_type": "code",
   "execution_count": null,
   "id": "b2cf4035-917d-46fd-97bd-55e746eb5a00",
   "metadata": {},
   "outputs": [],
   "source": [
    "# Add an extra dimension\n",
    "x_reshaped = x.reshape(1, 9)\n",
    "x_reshaped, x_reshaped.shape"
   ]
  },
  {
   "cell_type": "code",
   "execution_count": null,
   "id": "a219217f-466d-48d6-b3d9-3cf1adffc2ae",
   "metadata": {},
   "outputs": [],
   "source": [
    "x_reshaped = x.reshape(9, 1)\n",
    "x_reshaped, x_reshaped.shape"
   ]
  },
  {
   "cell_type": "code",
   "execution_count": null,
   "id": "a430980b-c2ad-4040-86f2-05a6c05104b4",
   "metadata": {},
   "outputs": [],
   "source": [
    "# Change the view\n",
    "z = x.view(1, 9)\n",
    "z, z.shape"
   ]
  },
  {
   "cell_type": "code",
   "execution_count": null,
   "id": "1378fcb1-03cb-4f6b-bd3d-d4c100315193",
   "metadata": {},
   "outputs": [],
   "source": [
    "# Changing z changes x (because a view of a tensor shares the same memory as the original tensor)\n",
    "z[:, 0] = 5\n",
    "z, x"
   ]
  },
  {
   "cell_type": "code",
   "execution_count": null,
   "id": "14c0599e-59a4-43f6-9e2e-3ff4c62338a9",
   "metadata": {},
   "outputs": [],
   "source": [
    "# Stack tensors on top of each other\n",
    "x_stacked = torch.stack([x, x, x, x], dim = 0)\n",
    "x_stacked"
   ]
  },
  {
   "cell_type": "code",
   "execution_count": null,
   "id": "055dac65-2027-44f9-8f9c-893bc9622ab6",
   "metadata": {},
   "outputs": [],
   "source": [
    "x_stacked = torch.stack([x, x, x, x], dim = 1)\n",
    "x_stacked"
   ]
  },
  {
   "cell_type": "code",
   "execution_count": null,
   "id": "0a65737e-4b71-4201-b30d-a196ea94e557",
   "metadata": {},
   "outputs": [],
   "source": [
    "# torch.squeeze() - removes all single dimensions from a target tensor\n",
    "print(f\"Previous tensor: {x_reshaped}\")\n",
    "print(f\"Previous shape: {x_reshaped.shape}\")\n",
    "\n",
    "# Remove extra dimensions from x_reshaped\n",
    "x_squeezed = x_reshaped.squeeze()\n",
    "print(f\"\\nNew tensor: {x_squeezed}\")\n",
    "print(f\"New shape: {x_squeezed.shape}\")"
   ]
  },
  {
   "cell_type": "code",
   "execution_count": null,
   "id": "dd652e86-3a09-4748-83f4-29fa0995d32d",
   "metadata": {},
   "outputs": [],
   "source": [
    "# torch.unsqueeze() - adds a single dimension to a target tensor at a specific dimension\n",
    "print(f\"Previous target: {x_squeezed}\")\n",
    "print(f\"Previous shape: {x_squeezed.shape}\")\n",
    "\n",
    "# Add an extra dimension with unsqueeze - dim = 0\n",
    "x_unsqueezed_0 = x_squeezed.unsqueeze(dim = 0)\n",
    "print(f\"\\nNew tensor: {x_unsqueezed_0}\")\n",
    "print(f\"New shape: {x_unsqueezed_0.shape}\")\n",
    "\n",
    "# Add an extra dimension with unsqueeze - dim = 1\n",
    "x_unsqueezed_1 = x_squeezed.unsqueeze(dim = 1)\n",
    "print(f\"\\nNew tensor: {x_unsqueezed_1}\")\n",
    "print(f\"New shape: {x_unsqueezed_1.shape}\")"
   ]
  },
  {
   "cell_type": "code",
   "execution_count": null,
   "id": "1fa3edce-8ab4-492e-a046-101b698aad74",
   "metadata": {},
   "outputs": [],
   "source": [
    "# torch.permute() - rearranges the dimension of a target tensor in a specified order\n",
    "x_original = torch.rand(size = (224, 224, 3))  # [height, width, colour channels]\n",
    "\n",
    "# Permute the original tensor to rearrange the axis (or dim) order\n",
    "x_permuted = x_original.permute(2, 0, 1)  # shifts axis 0 -> 1, 1 -> 2, 2 -> 0\n",
    "\n",
    "print(f\"Previous shape: {x_original.shape}\")\n",
    "print(f\"New shape: {x_permuted.shape}\")  # [colour channels, height, width]"
   ]
  },
  {
   "cell_type": "code",
   "execution_count": null,
   "id": "925495bc-1366-463f-ae3e-e88c991d031d",
   "metadata": {},
   "outputs": [],
   "source": [
    "x_original[0, 0, 0] = 728218\n",
    "print(x_original[0, 0, 0])\n",
    "print(x_permuted[0, 0, 0])"
   ]
  },
  {
   "cell_type": "markdown",
   "id": "260bbbbf-04c6-42df-b663-1b65ce37c58f",
   "metadata": {},
   "source": [
    "## Indexing (selecting data from tensors)\n",
    "\n",
    "Indexing with PyTorch is similar to indexing with NumPy."
   ]
  },
  {
   "cell_type": "code",
   "execution_count": null,
   "id": "ad81fc99-0cef-44e2-86bd-068acb415639",
   "metadata": {},
   "outputs": [],
   "source": [
    "# Create a tensor\n",
    "x = torch.arange(1, 10).reshape(1, 3, 3)\n",
    "x, x.shape"
   ]
  },
  {
   "cell_type": "code",
   "execution_count": null,
   "id": "824fcb14-f365-4f46-b766-302138b00d9d",
   "metadata": {},
   "outputs": [],
   "source": [
    "# Let's index on our new tensor\n",
    "x[0]"
   ]
  },
  {
   "cell_type": "code",
   "execution_count": null,
   "id": "1407e1ab-8f6d-41c6-811a-f28e9a10bc70",
   "metadata": {},
   "outputs": [],
   "source": [
    "# Let's index on the middle bracket (dim = 1)\n",
    "x[0][0]"
   ]
  },
  {
   "cell_type": "code",
   "execution_count": null,
   "id": "14be26a4-9121-49a9-bfc6-e04314754ab0",
   "metadata": {},
   "outputs": [],
   "source": [
    "# Let's index on the inner most bracket (last dimension)\n",
    "x[0][0][0]"
   ]
  },
  {
   "cell_type": "code",
   "execution_count": null,
   "id": "5b7a448c-9361-4ce8-9887-a4ce9730d4fb",
   "metadata": {},
   "outputs": [],
   "source": [
    "x[0][0][1]"
   ]
  },
  {
   "cell_type": "code",
   "execution_count": null,
   "id": "f32613fa-b069-4752-8e5a-fc794000aca1",
   "metadata": {},
   "outputs": [],
   "source": [
    "x[0][1][1]"
   ]
  },
  {
   "cell_type": "code",
   "execution_count": null,
   "id": "b1f8f525-5a5a-4eee-92e3-3eaaa8ff0387",
   "metadata": {},
   "outputs": [],
   "source": [
    "x[0][2][2]"
   ]
  },
  {
   "cell_type": "code",
   "execution_count": null,
   "id": "ce21a8bb-8f80-4ee7-be59-9764c3b7919f",
   "metadata": {},
   "outputs": [],
   "source": [
    "# You can also use \":\" to select all of a target dimension"
   ]
  },
  {
   "cell_type": "code",
   "execution_count": null,
   "id": "ebe5eb07-3d2b-47ed-b4f2-322eb03c1e02",
   "metadata": {},
   "outputs": [],
   "source": [
    "x[:, 0]"
   ]
  },
  {
   "cell_type": "code",
   "execution_count": null,
   "id": "1f631dbd-9758-4d61-a849-efb421db831f",
   "metadata": {},
   "outputs": [],
   "source": [
    "# Get all values of 0th and 1st dimensions but only index 1 of 2nd dimension\n",
    "x[:, :, 1]"
   ]
  },
  {
   "cell_type": "code",
   "execution_count": null,
   "id": "cd4893aa-ac6e-437b-ab59-10c0a05ddaed",
   "metadata": {},
   "outputs": [],
   "source": [
    "# Get all values of the 0th dimension but only the index value 1 of 1st and 2nd dimensions\n",
    "x[:, 1, 1]"
   ]
  },
  {
   "cell_type": "code",
   "execution_count": null,
   "id": "2ce1b820-427f-40d9-9436-e472f92f46dd",
   "metadata": {},
   "outputs": [],
   "source": [
    "x[0, 1, 1]"
   ]
  },
  {
   "cell_type": "code",
   "execution_count": null,
   "id": "3e6a91f2-4328-4d1b-b20d-894158c57e82",
   "metadata": {},
   "outputs": [],
   "source": [
    "# Get index 0 of 0th and 1st dimensions and all values of 2nd dimension\n",
    "x[0, 0, :]"
   ]
  },
  {
   "cell_type": "code",
   "execution_count": null,
   "id": "e436fbe0-d3aa-43f8-a998-f073ae71c1a2",
   "metadata": {},
   "outputs": [],
   "source": [
    "# Index on x to return 9\n",
    "x[0, 2, 2]"
   ]
  },
  {
   "cell_type": "code",
   "execution_count": null,
   "id": "8b34b081-9992-4787-8494-c7a5ad858427",
   "metadata": {},
   "outputs": [],
   "source": [
    "# Index on to return 3, 6, 9\n",
    "x[:, :, 2]"
   ]
  },
  {
   "cell_type": "markdown",
   "id": "25eb037d-c8c4-444d-be4b-68830945d098",
   "metadata": {},
   "source": [
    "## PyTorch tensors & NumPy\n",
    "\n",
    "Numpy is a popular scientific Python numerical computing library.\n",
    "\n",
    "And because of thos, PyTorch has functionality to interact with it.\n",
    "\n",
    "* Data in NumPy, want in PyTorch tensor -> `torch.from_numpy(ndarray)`\n",
    "* PyTorch tensor -> NumPy -> `torch.tensor.numpy()`"
   ]
  },
  {
   "cell_type": "code",
   "execution_count": 3,
   "id": "e93007d3-321d-4caf-8301-41348c1ad476",
   "metadata": {},
   "outputs": [
    {
     "data": {
      "text/plain": [
       "(array([1., 2., 3., 4., 5., 6., 7.]),\n",
       " tensor([1., 2., 3., 4., 5., 6., 7.], dtype=torch.float64))"
      ]
     },
     "execution_count": 3,
     "metadata": {},
     "output_type": "execute_result"
    }
   ],
   "source": [
    "# NumPy array to tensor\n",
    "array = np.arange(1.0, 8.0)\n",
    "tensor = torch.from_numpy(array)  \n",
    "# warning: when converting from NumPy to PyTorch, PyTorch reflects NumPy's default data type of float64\n",
    "# unless specified otherwise\n",
    "array, tensor"
   ]
  },
  {
   "cell_type": "code",
   "execution_count": 5,
   "id": "6b151d09-6785-4d0c-818d-4e391822b4b6",
   "metadata": {},
   "outputs": [
    {
     "data": {
      "text/plain": [
       "dtype('float64')"
      ]
     },
     "execution_count": 5,
     "metadata": {},
     "output_type": "execute_result"
    }
   ],
   "source": [
    "array.dtype"
   ]
  },
  {
   "cell_type": "code",
   "execution_count": 7,
   "id": "a5b68f7d-b4da-4351-8789-5cdfce236b93",
   "metadata": {},
   "outputs": [
    {
     "data": {
      "text/plain": [
       "torch.float32"
      ]
     },
     "execution_count": 7,
     "metadata": {},
     "output_type": "execute_result"
    }
   ],
   "source": [
    "torch.arange(1.0, 8.0).dtype"
   ]
  },
  {
   "cell_type": "code",
   "execution_count": 9,
   "id": "9a3b9aec-564f-48e0-a221-ae86b8cdde9b",
   "metadata": {},
   "outputs": [
    {
     "data": {
      "text/plain": [
       "(array([1., 2., 3., 4., 5., 6., 7.]), tensor([1., 2., 3., 4., 5., 6., 7.]))"
      ]
     },
     "execution_count": 9,
     "metadata": {},
     "output_type": "execute_result"
    }
   ],
   "source": [
    "# NumPy array to tensor\n",
    "array = np.arange(1.0, 8.0)\n",
    "tensor = torch.from_numpy(array).type(torch.float32)\n",
    "array, tensor"
   ]
  },
  {
   "cell_type": "code",
   "execution_count": 11,
   "id": "8608e407-e2b6-4c3b-9a66-84827fa4cdef",
   "metadata": {},
   "outputs": [
    {
     "data": {
      "text/plain": [
       "(dtype('float64'), torch.float32)"
      ]
     },
     "execution_count": 11,
     "metadata": {},
     "output_type": "execute_result"
    }
   ],
   "source": [
    "array.dtype, tensor.dtype"
   ]
  },
  {
   "cell_type": "code",
   "execution_count": 13,
   "id": "97ecdba3-3bc1-46a2-a958-9803d7369e3c",
   "metadata": {},
   "outputs": [
    {
     "data": {
      "text/plain": [
       "(array([2., 3., 4., 5., 6., 7., 8.]), tensor([1., 2., 3., 4., 5., 6., 7.]))"
      ]
     },
     "execution_count": 13,
     "metadata": {},
     "output_type": "execute_result"
    }
   ],
   "source": [
    "# Change the value of array, what will this do to `tensor`?\n",
    "array = array + 1\n",
    "array, tensor"
   ]
  },
  {
   "cell_type": "code",
   "execution_count": 15,
   "id": "e3a396e6-bd6e-4ec1-a365-a830997ffacc",
   "metadata": {},
   "outputs": [
    {
     "data": {
      "text/plain": [
       "(tensor([1., 1., 1., 1., 1., 1., 1.]),\n",
       " array([1., 1., 1., 1., 1., 1., 1.], dtype=float32))"
      ]
     },
     "execution_count": 15,
     "metadata": {},
     "output_type": "execute_result"
    }
   ],
   "source": [
    "# Tensor to NumPy array\n",
    "tensor = torch.ones(7)\n",
    "numpy_tensor = tensor.numpy()\n",
    "tensor, numpy_tensor"
   ]
  },
  {
   "cell_type": "code",
   "execution_count": 17,
   "id": "2c953ca5-d661-4bc9-9c11-c4b9b35719be",
   "metadata": {},
   "outputs": [
    {
     "data": {
      "text/plain": [
       "dtype('float32')"
      ]
     },
     "execution_count": 17,
     "metadata": {},
     "output_type": "execute_result"
    }
   ],
   "source": [
    "numpy_tensor.dtype"
   ]
  },
  {
   "cell_type": "code",
   "execution_count": 19,
   "id": "4a6de5b3-a2d2-4899-95dc-23384de59d24",
   "metadata": {},
   "outputs": [
    {
     "data": {
      "text/plain": [
       "(tensor([2., 2., 2., 2., 2., 2., 2.]),\n",
       " array([1., 1., 1., 1., 1., 1., 1.], dtype=float32))"
      ]
     },
     "execution_count": 19,
     "metadata": {},
     "output_type": "execute_result"
    }
   ],
   "source": [
    "# Change the tensor, what happens to `numpy_tensor`?\n",
    "tensor = tensor + 1\n",
    "tensor, numpy_tensor"
   ]
  },
  {
   "cell_type": "markdown",
   "id": "0d3006e7-cd5d-463c-bfbd-50a4ed42fb72",
   "metadata": {},
   "source": [
    "## Reproducibility (trying to take the random out of random)\n",
    "\n",
    "In short how neural networks learns:\n",
    "\n",
    "`start with random numbers -> tensor operations -> update random numbers to try and make them better representations of the data -> again -> again -> again ...`"
   ]
  },
  {
   "cell_type": "code",
   "execution_count": 30,
   "id": "65cdf87c-feb0-4cb5-a416-09a56079ede4",
   "metadata": {},
   "outputs": [
    {
     "data": {
      "text/plain": [
       "tensor([[0.0942, 0.4625, 0.2470],\n",
       "        [0.9911, 0.6498, 0.1740],\n",
       "        [0.4886, 0.6300, 0.7865]])"
      ]
     },
     "execution_count": 30,
     "metadata": {},
     "output_type": "execute_result"
    }
   ],
   "source": [
    "# Create a tensor\n",
    "\n",
    "torch.rand(3, 3)\n",
    "\n",
    "# Each time we run this cell, the numbers change."
   ]
  },
  {
   "cell_type": "markdown",
   "id": "4a8b5792-aed9-4e1d-aadc-305ca581d80f",
   "metadata": {},
   "source": [
    "To reduce the randomness in neural networks and PyTorch comes the concept of a **random seed**.\n",
    "\n",
    "Essentially what the random seed does is \"flavour\" the randomness."
   ]
  },
  {
   "cell_type": "code",
   "execution_count": 33,
   "id": "49c90b9c-a122-4a4d-a703-146a62d74ea4",
   "metadata": {},
   "outputs": [
    {
     "name": "stdout",
     "output_type": "stream",
     "text": [
      "tensor([[0.7061, 0.1361, 0.6878, 0.6752],\n",
      "        [0.8442, 0.6419, 0.8178, 0.2702],\n",
      "        [0.6445, 0.0180, 0.3217, 0.2671]])\n",
      "tensor([[0.6825, 0.4940, 0.4493, 0.3055],\n",
      "        [0.8222, 0.4441, 0.8920, 0.1401],\n",
      "        [0.7275, 0.7198, 0.0453, 0.1086]])\n",
      "tensor([[False, False, False, False],\n",
      "        [False, False, False, False],\n",
      "        [False, False, False, False]])\n"
     ]
    }
   ],
   "source": [
    "# Create two random tensors\n",
    "\n",
    "random_tensor_A = torch.rand(3, 4)\n",
    "random_tensor_B = torch.rand(3, 4)\n",
    "\n",
    "print(random_tensor_A)\n",
    "print(random_tensor_B)\n",
    "print(random_tensor_A == random_tensor_B)"
   ]
  },
  {
   "cell_type": "code",
   "execution_count": 35,
   "id": "3bc88220-c805-455a-9da3-11f659615700",
   "metadata": {},
   "outputs": [
    {
     "data": {
      "text/plain": [
       "<torch._C.Generator at 0x219b4c445d0>"
      ]
     },
     "execution_count": 35,
     "metadata": {},
     "output_type": "execute_result"
    }
   ],
   "source": [
    "# Let's make some random but reproducible tensors\n",
    "\n",
    "# Set the random seed\n",
    "torch.manual_seed(seed = 42)"
   ]
  },
  {
   "cell_type": "code",
   "execution_count": 37,
   "id": "59e9bfbd-f99a-41f0-920f-e411397bb8fe",
   "metadata": {},
   "outputs": [
    {
     "name": "stdout",
     "output_type": "stream",
     "text": [
      "tensor([[0.8823, 0.9150, 0.3829, 0.9593],\n",
      "        [0.3904, 0.6009, 0.2566, 0.7936],\n",
      "        [0.9408, 0.1332, 0.9346, 0.5936]])\n",
      "tensor([[0.8694, 0.5677, 0.7411, 0.4294],\n",
      "        [0.8854, 0.5739, 0.2666, 0.6274],\n",
      "        [0.2696, 0.4414, 0.2969, 0.8317]])\n",
      "tensor([[False, False, False, False],\n",
      "        [False, False, False, False],\n",
      "        [False, False, False, False]])\n"
     ]
    }
   ],
   "source": [
    "# Create two random tensors\n",
    "\n",
    "random_tensor_C = torch.rand(3, 4)\n",
    "random_tensor_D = torch.rand(3, 4)\n",
    "\n",
    "print(random_tensor_C)\n",
    "print(random_tensor_D)\n",
    "print(random_tensor_C == random_tensor_D)"
   ]
  },
  {
   "cell_type": "code",
   "execution_count": 39,
   "id": "77212d13-b40b-465c-ae35-c28ca985feb1",
   "metadata": {},
   "outputs": [
    {
     "name": "stdout",
     "output_type": "stream",
     "text": [
      "tensor([[0.8823, 0.9150, 0.3829, 0.9593],\n",
      "        [0.3904, 0.6009, 0.2566, 0.7936],\n",
      "        [0.9408, 0.1332, 0.9346, 0.5936]])\n",
      "tensor([[0.8823, 0.9150, 0.3829, 0.9593],\n",
      "        [0.3904, 0.6009, 0.2566, 0.7936],\n",
      "        [0.9408, 0.1332, 0.9346, 0.5936]])\n",
      "tensor([[True, True, True, True],\n",
      "        [True, True, True, True],\n",
      "        [True, True, True, True]])\n"
     ]
    }
   ],
   "source": [
    "torch.manual_seed(seed = 42)\n",
    "random_tensor_C = torch.rand(3, 4)\n",
    "\n",
    "torch.manual_seed(seed = 42)\n",
    "random_tensor_D = torch.rand(3, 4)\n",
    "\n",
    "print(random_tensor_C)\n",
    "print(random_tensor_D)\n",
    "print(random_tensor_C == random_tensor_D)"
   ]
  },
  {
   "cell_type": "markdown",
   "id": "f7e66abc-5c5a-40b6-9b9c-d42b97d7f246",
   "metadata": {},
   "source": [
    "## Running tensors and PyTorch objects on the GPUs (and making faster computations)\n",
    "\n",
    "GPUs = faster computation on numbers, thanks to CUDA + NVIDIA hardware + PyTorch working behind the scenes to make everything hunky dory (good)"
   ]
  },
  {
   "cell_type": "markdown",
   "id": "acb5367a-8286-4dc1-9db1-91c03c3fcccf",
   "metadata": {},
   "source": [
    "### 1. Getting a GPU\n",
    "\n",
    "1. Easiest - Use Google Colab for a free GPU (options to upgrade as well)\n",
    "2. Use your own GPU - takes a little bit of setup and requires the investment of purchasing a GPU, there's lots of options.\n",
    "3. Use cloud computing - GCP, AWS, Azure, these services allow you to rent computers on the cloud and access them\n",
    "\n",
    "For 2, 3 PyTorch + GPU drivers (CUDA) takes a little bit of setting up, to do this, refer to PyTorch documentation."
   ]
  },
  {
   "cell_type": "markdown",
   "id": "22e400d4-21aa-414a-aa76-a0571cb5a70e",
   "metadata": {},
   "source": [
    "Google Colab : Exécution > Modifier le Type d'Exécution > T4 GPU\n",
    "\n",
    "`!nvidia-smi` to show GPU details"
   ]
  },
  {
   "cell_type": "markdown",
   "id": "0bef73bc-96ce-4fb8-a206-75e38604d8f7",
   "metadata": {},
   "source": [
    "### 2. Check for GPU access with PyTorch"
   ]
  },
  {
   "cell_type": "code",
   "execution_count": 49,
   "id": "4bc2fb58-b722-4c88-8731-f7254b8c42b0",
   "metadata": {},
   "outputs": [
    {
     "data": {
      "text/plain": [
       "False"
      ]
     },
     "execution_count": 49,
     "metadata": {},
     "output_type": "execute_result"
    }
   ],
   "source": [
    "# Check for GPU access with PyTorch\n",
    "\n",
    "torch.cuda.is_available()"
   ]
  },
  {
   "cell_type": "markdown",
   "id": "ab40d8ba-4b61-4f3c-8952-6b7e7365e8c1",
   "metadata": {},
   "source": [
    "For PyTorch since it's capable of running compute on the GPU or CPU, it's best practice to setup device agnostic code.\n",
    "e.g. run on GPU if available, else default to CPU."
   ]
  },
  {
   "cell_type": "code",
   "execution_count": 51,
   "id": "af0d473b-d01b-40e7-8279-8a3ad182bb88",
   "metadata": {},
   "outputs": [
    {
     "data": {
      "text/plain": [
       "'cpu'"
      ]
     },
     "execution_count": 51,
     "metadata": {},
     "output_type": "execute_result"
    }
   ],
   "source": [
    "# Setup device agnostic code\n",
    "\n",
    "device = \"cuda\" if torch.cuda.is_available() else \"cpu\"\n",
    "device"
   ]
  },
  {
   "cell_type": "code",
   "execution_count": 53,
   "id": "ce4c6893-f07c-4005-965f-9a84bbcdd3e9",
   "metadata": {},
   "outputs": [
    {
     "data": {
      "text/plain": [
       "0"
      ]
     },
     "execution_count": 53,
     "metadata": {},
     "output_type": "execute_result"
    }
   ],
   "source": [
    "# Count number of devices\n",
    "torch.cuda.device_count()"
   ]
  },
  {
   "cell_type": "markdown",
   "id": "cd66fe6b-7ba7-4ed4-8653-5f50724304c4",
   "metadata": {},
   "source": [
    "### 3. Putting tensors (and models) on the GPU\n",
    "\n",
    "The reason we want our tensors/models on the GPU is because using GPU results in faster computations."
   ]
  },
  {
   "cell_type": "code",
   "execution_count": 59,
   "id": "660ad1a1-e72f-4032-a9a4-1476d235ddee",
   "metadata": {},
   "outputs": [
    {
     "name": "stdout",
     "output_type": "stream",
     "text": [
      "tensor([1, 2, 3]) cpu\n"
     ]
    }
   ],
   "source": [
    "# Create a tensor (default on the CPU)\n",
    "\n",
    "#tensor = torch.tensor([1, 2, 3], device = \"cpu\")  # by default on the cpu\n",
    "tensor = torch.tensor([1, 2, 3])\n",
    "# Tensor not on GPU\n",
    "\n",
    "print(tensor, tensor.device)\n"
   ]
  },
  {
   "cell_type": "code",
   "execution_count": 63,
   "id": "68729544-f457-4a3c-bc1b-2a4259084168",
   "metadata": {},
   "outputs": [
    {
     "data": {
      "text/plain": [
       "tensor([1, 2, 3])"
      ]
     },
     "execution_count": 63,
     "metadata": {},
     "output_type": "execute_result"
    }
   ],
   "source": [
    "# Move tensor to GPU (if available)\n",
    "\n",
    "tensor_on_gpu = tensor.to(device)\n",
    "tensor_on_gpu"
   ]
  },
  {
   "cell_type": "markdown",
   "id": "6af6cf1c-19b7-47e6-9262-26c66a1a2ae1",
   "metadata": {},
   "source": [
    "### 4. Moving tensors back to the CPU"
   ]
  },
  {
   "cell_type": "code",
   "execution_count": null,
   "id": "1e2563af-7b4f-48ec-bf17-c7d84d9ea8e2",
   "metadata": {},
   "outputs": [],
   "source": [
    "# If tensor is on GPU, can't transform it to NumPy\n",
    "tensor_on_gpu.numpy()"
   ]
  },
  {
   "cell_type": "code",
   "execution_count": null,
   "id": "19ecf492-2325-4080-ad20-c17ef0954272",
   "metadata": {},
   "outputs": [],
   "source": [
    "# To fix the GPU tensor with NumPy issue, we can first set it to the CPU\n",
    "tensor_back_on_cpu = tensor_on_gpu.cpu().numpy()\n",
    "tensor_back_on_cpu"
   ]
  },
  {
   "cell_type": "code",
   "execution_count": null,
   "id": "88ed0182-8b05-400e-9ad7-521a64770949",
   "metadata": {},
   "outputs": [],
   "source": [
    "tensor_on_gpu"
   ]
  },
  {
   "cell_type": "markdown",
   "id": "63a27ff8-26a6-4b4d-919d-9954deb3a9e8",
   "metadata": {},
   "source": [
    "## Exercises and extra-curriculum\n",
    "https://www.learnpytorch.io/00_pytorch_fundamentals/#exercises"
   ]
  }
 ],
 "metadata": {
  "kernelspec": {
   "display_name": "Python 3 (ipykernel)",
   "language": "python",
   "name": "python3"
  },
  "language_info": {
   "codemirror_mode": {
    "name": "ipython",
    "version": 3
   },
   "file_extension": ".py",
   "mimetype": "text/x-python",
   "name": "python",
   "nbconvert_exporter": "python",
   "pygments_lexer": "ipython3",
   "version": "3.12.4"
  }
 },
 "nbformat": 4,
 "nbformat_minor": 5
}
